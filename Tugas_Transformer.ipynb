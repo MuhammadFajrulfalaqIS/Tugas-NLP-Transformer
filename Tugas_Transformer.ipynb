{
 "cells": [
  {
   "cell_type": "markdown",
   "id": "387b06b7",
   "metadata": {},
   "source": [
    "# Tugas Individu: Implementasi Arsitektur Transformer dari Nol\n",
    "\n",
    "**Nama:** Muhammad Fajrulfalaq Izzulfirdausyah Suryaprabandaru\n",
    "**NIM:** 22/494174/TK/54184\n",
    "\n",
    "---\n",
    "\n",
    "## Deskripsi Tugas\n",
    "\n",
    "Tugas ini adalah implementasi arsitektur **Decoder-Only Transformer ** dari nol (*from scratch*) menggunakan **NumPy**. Fokus utama adalah membangun alur *forward pass*, mulai dari *embedding* hingga menghasilkan distribusi probabilitas untuk prediksi token berikutnya.\n",
    "\n",
    "**Aturan Utama:**\n",
    "* Hanya menggunakan **NumPy** untuk semua operasi matematis.\n",
    "* Tidak diperbolehkan menggunakan library deep learning seperti PyTorch atau TensorFlow.\n",
    "* Implementasi dibuat secara **modular**, di mana setiap komponen utama dibuat dalam fungsi atau kelas terpisah."
   ]
  },
  {
   "cell_type": "code",
   "execution_count": 45,
   "id": "d0c77190",
   "metadata": {},
   "outputs": [
    {
     "name": "stdout",
     "output_type": "stream",
     "text": [
      "Library yang dibutuhkan berhasil diimpor.\n"
     ]
    }
   ],
   "source": [
    "import numpy as np\n",
    "import matplotlib.pyplot as plt\n",
    "\n",
    "# Set seed untuk reproduktibilitas (hasil random akan selalu sama)\n",
    "np.random.seed(42)\n",
    "\n",
    "print(\"Library yang dibutuhkan berhasil diimpor.\")"
   ]
  },
  {
   "cell_type": "markdown",
   "id": "85dc8151",
   "metadata": {},
   "source": [
    "## 1. Desain Arsitektur dan Penjelasan Komponen\n",
    "\n",
    "Arsitektur yang dibangun adalah *decoder-only Transformer*. Model ini dirancang untuk memprediksi token berikutnya dalam sebuah urutan, sehingga sangat cocok untuk tugas-tugas generatif seperti pembuatan teks.\n",
    "\n",
    "Alur *forward pass* secara garis besar adalah sebagai berikut:\n",
    "1.  **Input Tokens** diubah menjadi vektor padat melalui **Token Embedding**.\n",
    "2.  Informasi urutan ditambahkan menggunakan **Positional Encoding**.\n",
    "3.  Vektor yang dihasilkan kemudian diproses melalui serangkaian **Decoder Blocks** yang identik.\n",
    "4.  Setiap *Decoder Block* terdiri dari dua sub-lapisan utama:\n",
    "    * **Masked Multi-Head Self-Attention**.\n",
    "    * **Position-wise Feed-Forward Network**.\n",
    "5.  Koneksi residual (*Residual Connection*) dan normalisasi lapisan (*Layer Normalization*) diterapkan di sekitar setiap sub-lapisan untuk menstabilkan dan mempercepat pelatihan.\n",
    "6.  Terakhir, **Output Layer** memproyeksikan output dari blok decoder terakhir ke dimensi kosakata (*vocabulary size*) dan mengubahnya menjadi distribusi probabilitas menggunakan fungsi *softmax*.\n",
    "\n",
    "Berikut adalah implementasi detail untuk setiap komponen wajib."
   ]
  },
  {
   "cell_type": "code",
   "execution_count": 46,
   "id": "a516bb2f",
   "metadata": {},
   "outputs": [
    {
     "name": "stdout",
     "output_type": "stream",
     "text": [
      "Komponen Token Embedding dan Positional Encoding siap.\n"
     ]
    }
   ],
   "source": [
    "# --- Komponen 1: Token Embedding ---\n",
    "# Direpresentasikan sebagai sebuah matriks lookup sederhana.\n",
    "# Bobotnya akan diinisialisasi secara acak.\n",
    "# Kelas ini hanya untuk ilustrasi, dalam praktiknya kita langsung menggunakan matriks NumPy.\n",
    "class TokenEmbedding:\n",
    "    def __init__(self, vocab_size, d_model):\n",
    "        # Inisialisasi matriks embedding dengan nilai acak\n",
    "        self.embedding = np.random.randn(vocab_size, d_model)\n",
    "\n",
    "    def __call__(self, token_indices):\n",
    "        # Mengambil vektor embedding untuk setiap token dalam input\n",
    "        return self.embedding[token_indices]\n",
    "\n",
    "# --- Komponen 2: Positional Encoding ---\n",
    "# Alasan Pemilihan: Sinusoidal Positional Encoding dipilih karena kemampuannya\n",
    "# untuk menangani urutan dengan panjang bervariasi dan memberikan representasi\n",
    "# posisi yang unik untuk setiap token tanpa perlu melatih parameter tambahan.\n",
    "class PositionalEncoding:\n",
    "    \"\"\"Menambahkan informasi posisi ke dalam embedding input.\"\"\"\n",
    "    def __init__(self, d_model, max_len=5000):\n",
    "        # Membuat matriks positional encoding (PE)\n",
    "        pe = np.zeros((max_len, d_model))\n",
    "        position = np.arange(0, max_len, dtype=np.float32).reshape(-1, 1)\n",
    "        # Denominator dari formula (10000^(2i/d_model))\n",
    "        div_term = np.exp(np.arange(0, d_model, 2).astype(np.float32) * -(np.log(10000.0) / d_model))\n",
    "        \n",
    "        # Mengisi nilai pe untuk kolom genap (sin) dan ganjil (cos)\n",
    "        pe[:, 0::2] = np.sin(position * div_term)\n",
    "        pe[:, 1::2] = np.cos(position * div_term)\n",
    "        \n",
    "        # Simpan matriks pe\n",
    "        self.pe = pe\n",
    "\n",
    "    def __call__(self, x):\n",
    "        # x memiliki shape: [batch_size, seq_len, d_model]\n",
    "        # Menambahkan positional encoding ke input x\n",
    "        return x + self.pe[:x.shape[1], :]\n",
    "\n",
    "print(\"Komponen Token Embedding dan Positional Encoding siap.\")"
   ]
  },
  {
   "cell_type": "markdown",
   "id": "2895ffbb",
   "metadata": {},
   "source": [
    "### Penjelasan Scaled Dot-Product Attention & Causal Masking\n",
    "\n",
    "**Scaled Dot-Product Attention** adalah inti dari Transformer. Mekanisme ini memungkinkan model untuk menimbang pentingnya token lain saat memproses satu token tertentu. Formulanya adalah:\n",
    "\n",
    "$$ \\text{Attention}(Q, K, V) = \\text{softmax}\\left(\\frac{QK^T}{\\sqrt{d_k}}\\right)V $$\n",
    "\n",
    "* **Query (Q)**: Representasi token saat ini, yang digunakan untuk \"bertanya\" atau mencari token lain yang relevan.\n",
    "* **Key (K)**: Representasi dari semua token dalam urutan, yang dicocokkan dengan Query.\n",
    "* **Value (V)**: Representasi dari semua token, yang akan dijumlahkan secara tertimbang berdasarkan skor perhatian untuk menghasilkan output.\n",
    "* **Scaling ($\\sqrt{d_k}$)**: Pembagian dengan akar kuadrat dari dimensi Key dilakukan untuk menstabilkan gradien saat pelatihan.\n",
    "\n",
    "[**Causal Masking** sangat penting untuk arsitektur *decoder-only*. Tujuannya adalah untuk **mencegah sebuah token mengakses informasi dari token di masa depan**. Saat memprediksi token pada posisi `t`, model hanya boleh melihat token dari posisi `0` hingga `t`. Ini diimplementasikan dengan menambahkan nilai negatif tak hingga (`-inf`) ke skor perhatian untuk semua posisi di masa depan sebelum diterapkan fungsi `softmax`. Setelah `softmax`, skor untuk posisi masa depan akan menjadi 0."
   ]
  },
  {
   "cell_type": "code",
   "execution_count": 47,
   "id": "b3b2813f",
   "metadata": {},
   "outputs": [
    {
     "name": "stdout",
     "output_type": "stream",
     "text": [
      "Fungsi Scaled Dot-Product Attention siap.\n"
     ]
    }
   ],
   "source": [
    "def softmax(x):\n",
    "    \"\"\"Menghitung softmax secara stabil.\"\"\"\n",
    "    e_x = np.exp(x - np.max(x, axis=-1, keepdims=True))\n",
    "    return e_x / np.sum(e_x, axis=-1, keepdims=True)\n",
    "\n",
    "def scaled_dot_product_attention(q, k, v, mask=None):\n",
    "    \"\"\"\n",
    "    Komponen 3: Implementasi Scaled Dot-Product Attention.\n",
    "    \"\"\"\n",
    "    d_k = q.shape[-1]\n",
    "    # 1. Matmul Q dan K transpose, lalu scaling\n",
    "    scores = (q @ np.transpose(k, (0, 1, 3, 2))) / np.sqrt(d_k)\n",
    "    \n",
    "    # 2. Komponen 7: Terapkan Causal Masking jika ada\n",
    "    if mask is not None:\n",
    "        scores += mask  # Menambahkan -inf ke posisi yang di-mask\n",
    "    \n",
    "    # 3. Terapkan softmax untuk mendapatkan bobot perhatian\n",
    "    attention_weights = softmax(scores)\n",
    "    \n",
    "    # 4. Matmul bobot dengan V untuk mendapatkan output\n",
    "    output = attention_weights @ v\n",
    "    return output, attention_weights\n",
    "\n",
    "print(\"Fungsi Scaled Dot-Product Attention siap.\")"
   ]
  },
  {
   "cell_type": "code",
   "execution_count": 48,
   "id": "5e627c53",
   "metadata": {},
   "outputs": [
    {
     "name": "stdout",
     "output_type": "stream",
     "text": [
      "Komponen Multi-Head Attention siap.\n"
     ]
    }
   ],
   "source": [
    "class MultiHeadAttention:\n",
    "    \"\"\"\n",
    "    Komponen 4: Implementasi Multi-Head Attention.\n",
    "    \"\"\"\n",
    "    def __init__(self, d_model, n_heads):\n",
    "        self.n_heads = n_heads\n",
    "        self.d_model = d_model\n",
    "        assert d_model % n_heads == 0, \"d_model harus bisa dibagi dengan n_heads\"\n",
    "        self.d_k = d_model // n_heads\n",
    "\n",
    "        # Inisialisasi \"weight\" (matriks proyeksi) secara acak\n",
    "        self.W_q = np.random.randn(d_model, d_model)\n",
    "        self.W_k = np.random.randn(d_model, d_model)\n",
    "        self.W_v = np.random.randn(d_model, d_model)\n",
    "        self.W_o = np.random.randn(d_model, d_model)\n",
    "        \n",
    "    def __call__(self, q, k, v, mask=None):\n",
    "        batch_size = q.shape[0]\n",
    "\n",
    "        # 1. Proyeksi Linear Q, K, V\n",
    "        q = q @ self.W_q\n",
    "        k = k @ self.W_k\n",
    "        v = v @ self.W_v\n",
    "\n",
    "        # 2. Reshape Q, K, V untuk multi-head\n",
    "        # Shape: [batch_size, n_heads, seq_len, d_k]\n",
    "        q = q.reshape(batch_size, -1, self.n_heads, self.d_k).transpose(0, 2, 1, 3)\n",
    "        k = k.reshape(batch_size, -1, self.n_heads, self.d_k).transpose(0, 2, 1, 3)\n",
    "        v = v.reshape(batch_size, -1, self.n_heads, self.d_k).transpose(0, 2, 1, 3)\n",
    "\n",
    "        # 3. Scaled Dot-Product Attention untuk semua head secara paralel\n",
    "        x, self.attention_weights = scaled_dot_product_attention(q, k, v, mask)\n",
    "\n",
    "        # 4. Concat hasil dari semua head dan lakukan proyeksi akhir\n",
    "        x = x.transpose(0, 2, 1, 3).reshape(batch_size, -1, self.d_model)\n",
    "        output = x @ self.W_o\n",
    "        return output\n",
    "\n",
    "print(\"Komponen Multi-Head Attention siap.\")"
   ]
  },
  {
   "cell_type": "code",
   "execution_count": 49,
   "id": "4c59922e",
   "metadata": {},
   "outputs": [
    {
     "name": "stdout",
     "output_type": "stream",
     "text": [
      "Komponen FFN dan Layer Normalization siap.\n"
     ]
    }
   ],
   "source": [
    "# --- Komponen 5: Feed-Forward Network (FFN) ---\n",
    "class PositionwiseFeedForward:\n",
    "    \"\"\"Implementasi FFN dua lapisan dengan aktivasi non-linear.\"\"\"\n",
    "    def __init__(self, d_model, d_ff):\n",
    "        self.W_1 = np.random.randn(d_model, d_ff)\n",
    "        self.b_1 = np.zeros(d_ff)\n",
    "        self.W_2 = np.random.randn(d_ff, d_model)\n",
    "        self.b_2 = np.zeros(d_model)\n",
    "\n",
    "    def gelu(self, x):\n",
    "        \"\"\"Aktivasi Gaussian Error Linear Unit (GELU).\"\"\"\n",
    "        return 0.5 * x * (1 + np.tanh(np.sqrt(2 / np.pi) * (x + 0.044715 * x**3)))\n",
    "    \n",
    "    def __call__(self, x):\n",
    "        # Lapisan pertama dengan aktivasi GELU\n",
    "        x = self.gelu(x @ self.W_1 + self.b_1)\n",
    "        # Lapisan kedua (linear)\n",
    "        x = x @ self.W_2 + self.b_2\n",
    "        return x\n",
    "\n",
    "# --- Komponen 6: Layer Normalization (untuk Pre-Norm) ---\n",
    "class LayerNormalization:\n",
    "    \"\"\"Implementasi Layer Normalization.\"\"\"\n",
    "    def __init__(self, d_model, eps=1e-5):\n",
    "        self.eps = eps\n",
    "        self.gamma = np.ones(d_model)  # parameter scale\n",
    "        self.beta = np.zeros(d_model)   # parameter shift\n",
    "\n",
    "    def __call__(self, x):\n",
    "        mean = np.mean(x, axis=-1, keepdims=True)\n",
    "        std = np.std(x, axis=-1, keepdims=True)\n",
    "        return self.gamma * (x - mean) / (std + self.eps) + self.beta\n",
    "\n",
    "# --- Komponen 8: Output Layer ---\n",
    "# Direpresentasikan sebagai proyeksi linear sederhana + softmax.\n",
    "# Akan digabungkan dalam kelas model utama.\n",
    "\n",
    "print(\"Komponen FFN dan Layer Normalization siap.\")"
   ]
  },
  {
   "cell_type": "code",
   "execution_count": 50,
   "id": "c98ae71c",
   "metadata": {},
   "outputs": [
    {
     "name": "stdout",
     "output_type": "stream",
     "text": [
      "Arsitektur model utama GPTDecoder siap.\n"
     ]
    }
   ],
   "source": [
    "class DecoderBlock:\n",
    "    \"\"\"\n",
    "    Menggabungkan semua komponen menjadi satu blok Decoder Transformer.\n",
    "    Struktur Pre-Norm: Norm -> Sublayer -> Add (Residual Connection)\n",
    "    \"\"\"\n",
    "    def __init__(self, d_model, n_heads, d_ff):\n",
    "        self.mha = MultiHeadAttention(d_model, n_heads)\n",
    "        self.ffn = PositionwiseFeedForward(d_model, d_ff)\n",
    "        self.ln1 = LayerNormalization(d_model)\n",
    "        self.ln2 = LayerNormalization(d_model)\n",
    "\n",
    "    def __call__(self, x, mask):\n",
    "        # Sublayer 1: Masked Multi-Head Attention dengan Residual Connection \n",
    "        attn_output = self.mha(self.ln1(x), self.ln1(x), self.ln1(x), mask)\n",
    "        x = x + attn_output\n",
    "\n",
    "        # Sublayer 2: Feed-Forward Network dengan Residual Connection \n",
    "        ffn_output = self.ffn(self.ln2(x))\n",
    "        x = x + ffn_output\n",
    "        return x\n",
    "\n",
    "class GPTDecoder:\n",
    "    \"\"\"\n",
    "    Arsitektur utama GPT-style Transformer (Decoder-Only).\n",
    "    \"\"\"\n",
    "    def __init__(self, vocab_size, d_model, n_layers, n_heads, d_ff, max_len=5000):\n",
    "        self.embedding = TokenEmbedding(vocab_size, d_model)\n",
    "        self.pos_encoder = PositionalEncoding(d_model, max_len)\n",
    "        self.decoder_blocks = [DecoderBlock(d_model, n_heads, d_ff) for _ in range(n_layers)]\n",
    "        self.ln_final = LayerNormalization(d_model)\n",
    "        \n",
    "        # Komponen 8: Output Layer - Proyeksi ke ukuran vocab \n",
    "        self.output_projection = np.random.randn(d_model, vocab_size)\n",
    "\n",
    "    def forward(self, x_tokens):\n",
    "        batch_size, seq_len = x_tokens.shape\n",
    "        \n",
    "        # --- Membuat Causal Mask ---\n",
    "        # Matriks (seq_len, seq_len) dengan nilai 0 di diagonal bawah dan -inf di atas.\n",
    "        mask = np.triu(np.full((seq_len, seq_len), -np.inf), k=1)\n",
    "        \n",
    "        # 1. Embedding + Positional Encoding\n",
    "        x = self.embedding(x_tokens)\n",
    "        x = self.pos_encoder(x)\n",
    "        \n",
    "        # 2. Lewatkan ke semua Decoder Blocks\n",
    "        for block in self.decoder_blocks:\n",
    "            x = block(x, mask)\n",
    "            \n",
    "        # 3. Normalisasi akhir\n",
    "        x = self.ln_final(x)\n",
    "        \n",
    "        # 4. Proyeksi ke ukuran vocab untuk mendapatkan logits \n",
    "        logits = x @ self.output_projection\n",
    "        \n",
    "        return logits\n",
    "\n",
    "print(\"Arsitektur model utama GPTDecoder siap.\")"
   ]
  },
  {
   "cell_type": "markdown",
   "id": "0e9f4c60",
   "metadata": {},
   "source": [
    "## 2. Uji Coba Sederhana & Bukti Uji\n",
    "\n",
    "Bagian ini berisi pengujian sederhana untuk memverifikasi bahwa implementasi telah berjalan sesuai harapan. Pengujian mencakup:\n",
    "1.  **Pengecekan Dimensi Tensor**: Memastikan dimensi input dan output (logits) sesuai dengan yang diharapkan.\n",
    "2.  **Verifikasi Softmax**: Memastikan distribusi probabilitas dari output `softmax` untuk satu token berjumlah 1.\n",
    "3.  **Verifikasi Causal Masking**: Memeriksa matriks perhatian (*attention weights*) untuk memastikan bahwa token tidak dapat \"melihat\" token di masa depan."
   ]
  },
  {
   "cell_type": "code",
   "execution_count": 51,
   "id": "e431df28",
   "metadata": {},
   "outputs": [
    {
     "name": "stdout",
     "output_type": "stream",
     "text": [
      "===== HASIL UJI COBA SEDERHANA =====\n",
      "Input Tokens:\n",
      "[[102 435 860 270 106  71]\n",
      " [700  20 614 121 466 214]]\n",
      "\n",
      "--- 1. Pengecekan Dimensi Tensor ---\n",
      "Bentuk Input Tokens: (2, 6)\n",
      "Bentuk Output Logits: (2, 6, 1000)\n",
      "Ekspektasi Bentuk Logits: [batch, seq_len, vocab_size] -> [2, 6, 1000]\n",
      "\n",
      "✅ Verifikasi Dimensi Berhasil!\n",
      "\n",
      "--- 2. Verifikasi Distribusi Softmax ---\n",
      "Jumlah probabilitas untuk prediksi token berikutnya: 1.000000\n",
      "✅ Verifikasi Softmax Berhasil!\n",
      "\n",
      "--- 3. Verifikasi Causal Masking ---\n",
      "Matriks Perhatian (Attention Matrix) dari satu head:\n",
      "[[1.   0.   0.   0.   0.   0.  ]\n",
      " [0.   1.   0.   0.   0.   0.  ]\n",
      " [0.   0.   1.   0.   0.   0.  ]\n",
      " [0.   1.   0.   0.   0.   0.  ]\n",
      " [0.   1.   0.   0.   0.   0.  ]\n",
      " [0.   0.99 0.   0.   0.01 0.  ]]\n",
      "\n",
      "Jumlah bobot perhatian di atas diagonal utama: 0.000000\n",
      "✅ Verifikasi Causal Masking Berhasil! (Token tidak bisa melihat ke masa depan)\n",
      "\n"
     ]
    }
   ],
   "source": [
    "# 1. Definisikan Hyperparameters\n",
    "batch_size = 2\n",
    "seq_len = 6\n",
    "vocab_size = 1000\n",
    "d_model = 128  # Dimensi embedding\n",
    "n_heads = 4    # Jumlah attention heads\n",
    "n_layers = 2   # Jumlah tumpukan Decoder Block\n",
    "d_ff = 256     # Dimensi hidden layer di FFN\n",
    "\n",
    "# 2. Buat Input Sederhana (daftar angka)\n",
    "input_tokens = np.random.randint(0, vocab_size, size=(batch_size, seq_len))\n",
    "\n",
    "# 3. Inisialisasi dan jalankan model\n",
    "model = GPTDecoder(\n",
    "    vocab_size=vocab_size,\n",
    "    d_model=d_model,\n",
    "    n_layers=n_layers,\n",
    "    n_heads=n_heads,\n",
    "    d_ff=d_ff\n",
    ")\n",
    "\n",
    "# 4. Forward Pass\n",
    "logits = model.forward(input_tokens)\n",
    "\n",
    "print(\"===== HASIL UJI COBA SEDERHANA =====\")\n",
    "print(f\"Input Tokens:\\n{input_tokens}\\n\")\n",
    "\n",
    "# --- Bukti Uji 1: Cek Dimensi Tensor ---\n",
    "print(\"--- 1. Pengecekan Dimensi Tensor ---\")\n",
    "print(f\"Bentuk Input Tokens: {input_tokens.shape}\")\n",
    "print(f\"Bentuk Output Logits: {logits.shape}\")\n",
    "print(f\"Ekspektasi Bentuk Logits: [batch, seq_len, vocab_size] -> [{batch_size}, {seq_len}, {vocab_size}]\\n\")\n",
    "assert logits.shape == (batch_size, seq_len, vocab_size), \"Dimensi output salah!\"\n",
    "print(\"✅ Verifikasi Dimensi Berhasil!\\n\")\n",
    "\n",
    "\n",
    "# --- Bukti Uji 2: Verifikasi Softmax ---\n",
    "print(\"--- 2. Verifikasi Distribusi Softmax ---\")\n",
    "# Ambil probabilitas untuk token berikutnya (setelah token terakhir dari sampel pertama)\n",
    "last_token_logits = logits[0, -1, :]\n",
    "next_token_probs = softmax(last_token_logits)\n",
    "prob_sum = np.sum(next_token_probs)\n",
    "print(f\"Jumlah probabilitas untuk prediksi token berikutnya: {prob_sum:.6f}\")\n",
    "assert np.isclose(prob_sum, 1.0), \"Jumlah probabilitas bukan 1!\"\n",
    "print(\"✅ Verifikasi Softmax Berhasil!\\n\")\n",
    "\n",
    "\n",
    "# --- Bukti Uji 3: Verifikasi Causal Mask ---\n",
    "print(\"--- 3. Verifikasi Causal Masking ---\")\n",
    "# Ambil attention weights dari MHA pertama di block pertama, sampel pertama, head pertama\n",
    "attention_weights_test = model.decoder_blocks[0].mha.attention_weights[0, 0, :, :]\n",
    "print(\"Matriks Perhatian (Attention Matrix) dari satu head:\")\n",
    "print(np.round(attention_weights_test, 2))\n",
    "# Cek apakah bagian atas diagonal (tidak termasuk diagonal) semuanya nol\n",
    "upper_triangle_sum = np.sum(np.triu(attention_weights_test, k=1))\n",
    "print(f\"\\nJumlah bobot perhatian di atas diagonal utama: {upper_triangle_sum:.6f}\")\n",
    "assert np.isclose(upper_triangle_sum, 0.0), \"Causal Masking GAGAL!\"\n",
    "print(\"✅ Verifikasi Causal Masking Berhasil! (Token tidak bisa melihat ke masa depan)\\n\")"
   ]
  },
  {
   "cell_type": "code",
   "execution_count": 52,
   "id": "86750454",
   "metadata": {},
   "outputs": [
    {
     "data": {
      "image/png": "[encoded data removed]",
      "text/plain": [
       "<Figure size 700x600 with 2 Axes>"
      ]
     },
     "metadata": {},
     "output_type": "display_data"
    },
    {
     "name": "stdout",
     "output_type": "stream",
     "text": [
      "Visualisasi di atas menunjukkan bahwa setiap token (baris) hanya dapat memperhatikan\n",
      "token pada posisi saat ini dan posisi sebelumnya (kolom).\n",
      "Area segitiga kanan atas berwarna gelap (nilai 0), membuktikan mask bekerja.\n"
     ]
    }
   ],
   "source": [
    "# --- Bonus: Visualisasi Distribusi Attention --- \n",
    "# Visualisasi ini secara grafis menunjukkan bukti kerja dari Causal Masking.\n",
    "# Sumbu-y adalah query (token saat ini) dan sumbu-x adalah key (token yang dilihat).\n",
    "# Warna terang menunjukkan skor perhatian yang tinggi.\n",
    "\n",
    "fig, ax = plt.subplots(figsize=(7, 6))\n",
    "cax = ax.matshow(attention_weights_test, cmap='viridis')\n",
    "fig.colorbar(cax)\n",
    "\n",
    "ax.set_title(\"Visualisasi Bobot Perhatian (Attention Weights)\\nDengan Causal Masking\")\n",
    "ax.set_xlabel(\"Posisi Token Sumber (Key)\")\n",
    "ax.set_ylabel(\"Posisi Token Tujuan (Query)\")\n",
    "ax.xaxis.set_ticks_position('bottom')\n",
    "\n",
    "plt.show()\n",
    "\n",
    "print(\"Visualisasi di atas menunjukkan bahwa setiap token (baris) hanya dapat memperhatikan\")\n",
    "print(\"token pada posisi saat ini dan posisi sebelumnya (kolom).\")\n",
    "print(\"Area segitiga kanan atas berwarna gelap (nilai 0), membuktikan mask bekerja.\")"
   ]
  },
  {
   "cell_type": "markdown",
   "id": "2eaaa578",
   "metadata": {},
   "source": [
    "## 3. Simulasi Alur Prediksi Kata Selanjutnya\n",
    "\n",
    "Sekarang kita akan mensimulasikan bagaimana sebuah model Transformer yang sudah jadi (meskipun bobotnya masih acak) digunakan untuk memprediksi kata.\n",
    "\n",
    "### Langkah 1: Persiapan Kosakata dan Tokenizer\n",
    "\n",
    "Setiap model bahasa memiliki kosakata (*vocabulary*) yang terbatas—daftar semua kata yang ia kenali. \"Tokenisasi\" adalah proses mengubah teks mentah menjadi angka (ID) berdasarkan kosakata ini, dan sebaliknya."
   ]
  },
  {
   "cell_type": "code",
   "execution_count": 53,
   "id": "a545c9dd",
   "metadata": {},
   "outputs": [
    {
     "name": "stdout",
     "output_type": "stream",
     "text": [
      "Kalimat Asli: 'aku adalah seorang mahasiswa'\n",
      "Hasil Tokenisasi (ID): [1, 2, 3, 4]\n",
      "Ukuran Kosakata: 15 kata\n"
     ]
    }
   ],
   "source": [
    "# 1. Definisikan Kosakata (Vocabulary)\n",
    "# Di dunia nyata, ini bisa berisi 50.000+ kata. Kita akan buat versi mini.\n",
    "vocabulary = [\n",
    "    '<pad>', 'aku', 'adalah', 'seorang', 'mahasiswa', 'yang', 'sedang',\n",
    "    'belajar', 'transformer', 'dari', 'nol', 'di', 'rumah', 'ini', 'tugas'\n",
    "]\n",
    "\n",
    "# 2. Buat \"Tokenizer\"\n",
    "# Kamus untuk mengubah kata menjadi angka (ID)\n",
    "word_to_id = {word: i for i, word in enumerate(vocabulary)}\n",
    "\n",
    "# Kamus untuk mengubah angka (ID) kembali menjadi kata\n",
    "id_to_word = {i: word for i, word in enumerate(vocabulary)}\n",
    "\n",
    "# --- Uji Coba Tokenizer ---\n",
    "kalimat_contoh = \"aku adalah seorang mahasiswa\"\n",
    "tokenized_contoh = [word_to_id[word] for word in kalimat_contoh.split()]\n",
    "\n",
    "print(f\"Kalimat Asli: '{kalimat_contoh}'\")\n",
    "print(f\"Hasil Tokenisasi (ID): {tokenized_contoh}\")\n",
    "\n",
    "# Simpan ukuran vocab untuk model\n",
    "vocab_size = len(vocabulary)\n",
    "print(f\"Ukuran Kosakata: {vocab_size} kata\")"
   ]
  },
  {
   "cell_type": "code",
   "execution_count": 54,
   "id": "1195bd4a",
   "metadata": {},
   "outputs": [
    {
     "name": "stdout",
     "output_type": "stream",
     "text": [
      "Model dengan bobot acak berhasil dibuat.\n"
     ]
    }
   ],
   "source": [
    "# Kita gunakan kembali arsitektur GPTDecoder yang sama dari sel sebelumnya.\n",
    "# Pastikan Anda sudah menjalankan sel yang berisi definisi kelas GPTDecoder.\n",
    "\n",
    "# Inisialisasi model dengan ukuran vocab yang sudah kita tentukan.\n",
    "d_model = 64\n",
    "n_heads = 4\n",
    "n_layers = 2\n",
    "d_ff = 128\n",
    "\n",
    "# PENTING: Ingat, bobot (weights) dalam model ini masih ACAK.\n",
    "# Model ini belum dilatih sama sekali, jadi prediksinya akan asal-asalan.\n",
    "# Tujuannya adalah untuk melihat alur prosesnya.\n",
    "model = GPTDecoder(\n",
    "    vocab_size=vocab_size,\n",
    "    d_model=d_model,\n",
    "    n_layers=n_layers,\n",
    "    n_heads=n_heads,\n",
    "    d_ff=d_ff\n",
    ")\n",
    "\n",
    "print(\"Model dengan bobot acak berhasil dibuat.\")"
   ]
  },
  {
   "cell_type": "markdown",
   "id": "ba38c6f0",
   "metadata": {},
   "source": [
    "### Langkah 3: Proses Prediksi Kata Selanjutnya (End-to-End)\n",
    "\n",
    "Berikut adalah alur lengkap dari input teks hingga output prediksi kata, dengan melihat setiap komponen yang bekerja."
   ]
  },
  {
   "cell_type": "code",
   "execution_count": 55,
   "id": "6bf6e5db",
   "metadata": {},
   "outputs": [
    {
     "name": "stdout",
     "output_type": "stream",
     "text": [
      "1. Input Teks: 'aku sedang belajar'\n",
      "2. Hasil Tokenisasi: [1, 6, 7]\n",
      "3. Input untuk Model (Batch): [[1 6 7]]\n",
      "\n",
      "4. Model menghasilkan Logits dengan shape: (1, 3, 15)\n",
      "5. Logits dari token terakhir, shape: (15,)\n",
      "\n",
      "6. Hasil Softmax (Distribusi Probabilitas untuk setiap kata di kosakata):\n",
      "   - Kata '<pad>': 0.0055 (0.55%)\n",
      "   - Kata 'aku': 0.0000 (0.00%)\n",
      "   - Kata 'adalah': 0.0038 (0.38%)\n",
      "   - Kata 'seorang': 0.0000 (0.00%)\n",
      "   - Kata 'mahasiswa': 0.0000 (0.00%)\n",
      "   - Kata 'yang': 0.0005 (0.05%)\n",
      "   - Kata 'sedang': 0.0000 (0.00%)\n",
      "   - Kata 'belajar': 0.0000 (0.00%)\n",
      "   - Kata 'transformer': 0.0002 (0.02%)\n",
      "   - Kata 'dari': 0.0060 (0.60%)\n",
      "   - Kata 'nol': 0.0001 (0.01%)\n",
      "   - Kata 'di': 0.0285 (2.85%)\n",
      "   - Kata 'rumah': 0.0000 (0.00%)\n",
      "   - Kata 'ini': 0.0000 (0.00%)\n",
      "   - Kata 'tugas': 0.9555 (95.55%)\n",
      "   Jumlah semua probabilitas: 1.00\n",
      "\n",
      "7. ID prediksi dengan probabilitas tertinggi: 14\n",
      "---------------------------------------------\n",
      "HASIL PREDIKSI KATA SELANJUTNYA ADALAH: 'tugas'\n",
      "---------------------------------------------\n",
      "\n",
      "(Ingat: Kata ini hasil dari model yang belum dilatih, jadi hasilnya acak!)\n"
     ]
    }
   ],
   "source": [
    "# --- Input Awal ---\n",
    "input_text = \"aku sedang belajar\"\n",
    "\n",
    "# --- A. Komponen Hasil Tokenisasi ---\n",
    "print(f\"1. Input Teks: '{input_text}'\")\n",
    "tokenized_input = [word_to_id[word] for word in input_text.split()]\n",
    "print(f\"2. Hasil Tokenisasi: {tokenized_input}\")\n",
    "\n",
    "# Model memerlukan input dalam bentuk batch, jadi kita tambahkan dimensi baru\n",
    "# Shape: [1, seq_len]\n",
    "model_input = np.array([tokenized_input])\n",
    "print(f\"3. Input untuk Model (Batch): {model_input}\\n\")\n",
    "\n",
    "# --- B. Menjalankan Model (Forward Pass) ---\n",
    "# Di sinilah proses Multi-Head Attention, FFN, dll., terjadi.\n",
    "logits = model.forward(model_input)\n",
    "print(f\"4. Model menghasilkan Logits dengan shape: {logits.shape}\")\n",
    "# Shape: [batch_size, seq_len, vocab_size] -> [1, 3, 15]\n",
    "\n",
    "# --- C. Mendapatkan Logits untuk Prediksi Berikutnya ---\n",
    "# Kita hanya tertarik pada output dari token terakhir (\"belajar\"),\n",
    "# karena itu yang digunakan untuk memprediksi kata selanjutnya.\n",
    "last_token_logits = logits[0, -1, :]\n",
    "print(f\"5. Logits dari token terakhir, shape: {last_token_logits.shape}\\n\")\n",
    "\n",
    "# --- D. Komponen Hasil Softmax ---\n",
    "# Mengubah skor logits menjadi distribusi probabilitas yang jumlahnya 1.\n",
    "probabilities = softmax(last_token_logits)\n",
    "print(\"6. Hasil Softmax (Distribusi Probabilitas untuk setiap kata di kosakata):\")\n",
    "# Mencetak probabilitas untuk beberapa kata pertama sebagai contoh\n",
    "for i in range(len(vocabulary)):\n",
    "    print(f\"   - Kata '{id_to_word[i]}': {probabilities[i]:.4f} ({(probabilities[i]*100):.2f}%)\")\n",
    "print(f\"   Jumlah semua probabilitas: {np.sum(probabilities):.2f}\\n\")\n",
    "\n",
    "\n",
    "# --- E. Memilih Kata Hasil Prediksi ---\n",
    "# Kita pilih kata dengan probabilitas tertinggi menggunakan np.argmax\n",
    "predicted_id = np.argmax(probabilities)\n",
    "predicted_word = id_to_word[predicted_id]\n",
    "\n",
    "print(f\"7. ID prediksi dengan probabilitas tertinggi: {predicted_id}\")\n",
    "print(\"---\" * 15)\n",
    "print(f\"HASIL PREDIKSI KATA SELANJUTNYA ADALAH: '{predicted_word}'\")\n",
    "print(\"---\" * 15)\n",
    "print(\"\\n(Ingat: Kata ini hasil dari model yang belum dilatih, jadi hasilnya acak!)\")"
   ]
  },
  {
   "cell_type": "code",
   "execution_count": 56,
   "id": "6e4d4f24",
   "metadata": {},
   "outputs": [
    {
     "name": "stdout",
     "output_type": "stream",
     "text": [
      "Setelah 'aku adalah', model memprediksi -> '<pad>'\n",
      "Setelah 'transformer dari nol', model memprediksi -> '<pad>'\n",
      "Setelah 'ini tugas', model memprediksi -> 'dari'\n"
     ]
    }
   ],
   "source": [
    "def predict_next_word(text, model):\n",
    "    \"\"\"\n",
    "    Fungsi yang merangkum seluruh proses prediksi.\n",
    "    \"\"\"\n",
    "    # 1. Tokenisasi\n",
    "    tokenized_input = [word_to_id[word] for word in text.split()]\n",
    "    model_input = np.array([tokenized_input])\n",
    "    \n",
    "    # 2. Forward Pass\n",
    "    logits = model.forward(model_input)\n",
    "    \n",
    "    # 3. Dapatkan Logits & Softmax\n",
    "    last_token_logits = logits[0, -1, :]\n",
    "    probabilities = softmax(last_token_logits)\n",
    "    \n",
    "    # 4. Prediksi\n",
    "    predicted_id = np.argmax(probabilities)\n",
    "    predicted_word = id_to_word[predicted_id]\n",
    "    \n",
    "    return predicted_word\n",
    "\n",
    "# --- Mari kita coba fungsinya ---\n",
    "prompt1 = \"aku adalah\"\n",
    "prediksi1 = predict_next_word(prompt1, model)\n",
    "print(f\"Setelah '{prompt1}', model memprediksi -> '{prediksi1}'\")\n",
    "\n",
    "prompt2 = \"transformer dari nol\"\n",
    "prediksi2 = predict_next_word(prompt2, model)\n",
    "print(f\"Setelah '{prompt2}', model memprediksi -> '{prediksi2}'\")\n",
    "\n",
    "prompt3 = \"ini tugas\"\n",
    "prediksi3 = predict_next_word(prompt3, model)\n",
    "print(f\"Setelah '{prompt3}', model memprediksi -> '{prediksi3}'\")"
   ]
  }
 ],
 "metadata": {
  "kernelspec": {
   "display_name": "Python 3",
   "language": "python",
   "name": "python3"
  },
  "language_info": {
   "codemirror_mode": {
    "name": "ipython",
    "version": 3
   },
   "file_extension": ".py",
   "mimetype": "text/x-python",
   "name": "python",
   "nbconvert_exporter": "python",
   "pygments_lexer": "ipython3",
   "version": "3.12.2"
  }
 },
 "nbformat": 4,
 "nbformat_minor": 5
}
